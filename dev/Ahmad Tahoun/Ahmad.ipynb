{
 "cells": [
  {
   "cell_type": "code",
   "execution_count": 58,
   "metadata": {},
   "outputs": [],
   "source": [
    "# Dependencies\n",
    "import matplotlib.pyplot as plt\n",
    "import numpy as np\n",
    "import pandas as pd\n",
    "import scipy.stats as sts\n",
    "from scipy.stats import linregress\n"
   ]
  },
  {
   "cell_type": "code",
   "execution_count": 59,
   "metadata": {},
   "outputs": [
    {
     "ename": "NameError",
     "evalue": "name 'result' is not defined",
     "output_type": "error",
     "traceback": [
      "\u001b[1;31m---------------------------------------------------------------------------\u001b[0m",
      "\u001b[1;31mNameError\u001b[0m                                 Traceback (most recent call last)",
      "\u001b[1;32m<ipython-input-59-216fa521c5f5>\u001b[0m in \u001b[0;36m<module>\u001b[1;34m\u001b[0m\n\u001b[0;32m      1\u001b[0m \u001b[0mcleaned\u001b[0m \u001b[1;33m=\u001b[0m \u001b[0mpd\u001b[0m\u001b[1;33m.\u001b[0m\u001b[0mread_csv\u001b[0m\u001b[1;33m(\u001b[0m\u001b[1;34m'resources/StartupsCleanedDf.csv'\u001b[0m\u001b[1;33m)\u001b[0m\u001b[1;33m\u001b[0m\u001b[1;33m\u001b[0m\u001b[0m\n\u001b[1;32m----> 2\u001b[1;33m \u001b[0muncleaned\u001b[0m \u001b[1;33m=\u001b[0m \u001b[0mpd\u001b[0m\u001b[1;33m.\u001b[0m\u001b[0mread_csv\u001b[0m\u001b[1;33m(\u001b[0m\u001b[1;34m'resources/Pitchbook.csv'\u001b[0m\u001b[1;33m,\u001b[0m \u001b[0mencoding\u001b[0m\u001b[1;33m=\u001b[0m\u001b[0mresult\u001b[0m\u001b[1;33m[\u001b[0m\u001b[1;34m'encoding'\u001b[0m\u001b[1;33m]\u001b[0m\u001b[1;33m)\u001b[0m\u001b[1;33m\u001b[0m\u001b[1;33m\u001b[0m\u001b[0m\n\u001b[0m",
      "\u001b[1;31mNameError\u001b[0m: name 'result' is not defined"
     ]
    }
   ],
   "source": [
    "cleaned = pd.read_csv('resources/StartupsCleanedDf.csv')\n",
    "uncleaned = pd.read_csv('resources/Pitchbook.csv', encoding=result['encoding'])"
   ]
  },
  {
   "cell_type": "code",
   "execution_count": 11,
   "metadata": {},
   "outputs": [
    {
     "data": {
      "text/plain": [
       "Index(['Unnamed: 0', 'Company Name', 'Programming Languages',\n",
       "       'Software Applications', 'Primary Industry Code',\n",
       "       'Primary Industry Sector', 'Primary Industry Group', 'Verticals',\n",
       "       'Total Raised', 'Employees', 'Year Founded', 'HQ Location',\n",
       "       'HQ Country', 'HQ Global Region', 'Active Investors',\n",
       "       '# Active Investors', 'First Financing Date', 'First Financing Size',\n",
       "       'First Financing Deal Type', 'First Financing Deal Class',\n",
       "       'Last Financing Date', 'Last Financing Size',\n",
       "       'Last Financing Deal Type', 'Last Financing Deal Class', 'Growth Rate',\n",
       "       'Growth Rate Percentile', 'Web Growth Rate',\n",
       "       'Web Growth Rate Percentile', 'Social Growth Rate',\n",
       "       'Social Growth Rate Percentile', 'Twitter Growth Rate',\n",
       "       'Twitter Growth Rate Percentile', 'Twitter Followers'],\n",
       "      dtype='object')"
      ]
     },
     "execution_count": 11,
     "metadata": {},
     "output_type": "execute_result"
    }
   ],
   "source": [
    "cleaned.columns"
   ]
  },
  {
   "cell_type": "code",
   "execution_count": 12,
   "metadata": {},
   "outputs": [],
   "source": [
    "venture = cleaned[['Company Name',  'Primary Industry Sector', 'Primary Industry Group', 'Verticals',\n",
    "       'Total Raised','Active Investors',\n",
    "       '# Active Investors', 'First Financing Date', 'First Financing Size',\n",
    "       'First Financing Deal Type', 'First Financing Deal Class',\n",
    "       'Last Financing Date', 'Last Financing Size',\n",
    "       'Last Financing Deal Type', 'Last Financing Deal Class', 'Growth Rate' ]]"
   ]
  },
  {
   "cell_type": "code",
   "execution_count": 31,
   "metadata": {},
   "outputs": [
    {
     "data": {
      "text/html": [
       "<div>\n",
       "<style scoped>\n",
       "    .dataframe tbody tr th:only-of-type {\n",
       "        vertical-align: middle;\n",
       "    }\n",
       "\n",
       "    .dataframe tbody tr th {\n",
       "        vertical-align: top;\n",
       "    }\n",
       "\n",
       "    .dataframe thead th {\n",
       "        text-align: right;\n",
       "    }\n",
       "</style>\n",
       "<table border=\"1\" class=\"dataframe\">\n",
       "  <thead>\n",
       "    <tr style=\"text-align: right;\">\n",
       "      <th></th>\n",
       "      <th>Company Name</th>\n",
       "      <th>Primary Industry Sector</th>\n",
       "      <th>Primary Industry Group</th>\n",
       "      <th>Verticals</th>\n",
       "      <th>Total Raised</th>\n",
       "      <th>Active Investors</th>\n",
       "      <th># Active Investors</th>\n",
       "      <th>First Financing Date</th>\n",
       "      <th>First Financing Size</th>\n",
       "      <th>First Financing Deal Type</th>\n",
       "      <th>First Financing Deal Class</th>\n",
       "      <th>Last Financing Date</th>\n",
       "      <th>Last Financing Size</th>\n",
       "      <th>Last Financing Deal Type</th>\n",
       "      <th>Last Financing Deal Class</th>\n",
       "      <th>Growth Rate</th>\n",
       "    </tr>\n",
       "  </thead>\n",
       "  <tbody>\n",
       "    <tr>\n",
       "      <td>0</td>\n",
       "      <td>3Bar Biologics</td>\n",
       "      <td>Healthcare</td>\n",
       "      <td>Pharmaceuticals and Biotechnology</td>\n",
       "      <td>AgTech, Life Sciences</td>\n",
       "      <td>2.10</td>\n",
       "      <td>Carmen Innovation, Maumee Ventures, Ohio Tech ...</td>\n",
       "      <td>10.0</td>\n",
       "      <td>2014-07-15</td>\n",
       "      <td>0.10</td>\n",
       "      <td>Grant</td>\n",
       "      <td>Other</td>\n",
       "      <td>2017-10-18</td>\n",
       "      <td>0.60</td>\n",
       "      <td>Grant</td>\n",
       "      <td>Other</td>\n",
       "      <td>9.29</td>\n",
       "    </tr>\n",
       "    <tr>\n",
       "      <td>1</td>\n",
       "      <td>3D Hubs</td>\n",
       "      <td>Business Products and Services (B2B)</td>\n",
       "      <td>Commercial Services</td>\n",
       "      <td>3D Printing, E-Commerce, Industrials, SaaS, TMT</td>\n",
       "      <td>29.52</td>\n",
       "      <td>Arthur Kosten, Balderton Capital, Endeit Capit...</td>\n",
       "      <td>11.0</td>\n",
       "      <td>2013-04-01</td>\n",
       "      <td>0.02</td>\n",
       "      <td>Accelerator/Incubator</td>\n",
       "      <td>Other</td>\n",
       "      <td>2019-03-26</td>\n",
       "      <td>18.00</td>\n",
       "      <td>Later Stage VC</td>\n",
       "      <td>Venture Capital</td>\n",
       "      <td>0.08</td>\n",
       "    </tr>\n",
       "    <tr>\n",
       "      <td>2</td>\n",
       "      <td>4INFO</td>\n",
       "      <td>Business Products and Services (B2B)</td>\n",
       "      <td>Commercial Services</td>\n",
       "      <td>AdTech, Mobile, TMT</td>\n",
       "      <td>76.09</td>\n",
       "      <td>Big Basin Partners, Comcast Ventures, Costella...</td>\n",
       "      <td>14.0</td>\n",
       "      <td>2004-10-13</td>\n",
       "      <td>0.42</td>\n",
       "      <td>Early Stage VC</td>\n",
       "      <td>Venture Capital</td>\n",
       "      <td>2014-08-05</td>\n",
       "      <td>1.50</td>\n",
       "      <td>Debt Refinancing</td>\n",
       "      <td>Debt</td>\n",
       "      <td>-1.12</td>\n",
       "    </tr>\n",
       "    <tr>\n",
       "      <td>3</td>\n",
       "      <td>8i</td>\n",
       "      <td>Information Technology</td>\n",
       "      <td>Software</td>\n",
       "      <td>Augmented Reality, SaaS, TMT, Virtual Reality</td>\n",
       "      <td>42.22</td>\n",
       "      <td>Advancit Capital, Andrew Hendricks, Baidu Vent...</td>\n",
       "      <td>29.0</td>\n",
       "      <td>2014-07-01</td>\n",
       "      <td>1.00</td>\n",
       "      <td>Angel (individual)</td>\n",
       "      <td>Individual</td>\n",
       "      <td>2017-02-13</td>\n",
       "      <td>26.74</td>\n",
       "      <td>Early Stage VC</td>\n",
       "      <td>Venture Capital</td>\n",
       "      <td>1.66</td>\n",
       "    </tr>\n",
       "    <tr>\n",
       "      <td>4</td>\n",
       "      <td>908 Devices</td>\n",
       "      <td>Business Products and Services (B2B)</td>\n",
       "      <td>Commercial Products</td>\n",
       "      <td>TMT</td>\n",
       "      <td>74.00</td>\n",
       "      <td>Alan Marshall, ARCH Venture Partners, Artur St...</td>\n",
       "      <td>29.0</td>\n",
       "      <td>2012-12-06</td>\n",
       "      <td>8.49</td>\n",
       "      <td>Early Stage VC</td>\n",
       "      <td>Venture Capital</td>\n",
       "      <td>2019-04-29</td>\n",
       "      <td>17.50</td>\n",
       "      <td>Later Stage VC</td>\n",
       "      <td>Venture Capital</td>\n",
       "      <td>0.20</td>\n",
       "    </tr>\n",
       "  </tbody>\n",
       "</table>\n",
       "</div>"
      ],
      "text/plain": [
       "     Company Name               Primary Industry Sector  \\\n",
       "0  3Bar Biologics                            Healthcare   \n",
       "1         3D Hubs  Business Products and Services (B2B)   \n",
       "2           4INFO  Business Products and Services (B2B)   \n",
       "3              8i                Information Technology   \n",
       "4     908 Devices  Business Products and Services (B2B)   \n",
       "\n",
       "              Primary Industry Group  \\\n",
       "0  Pharmaceuticals and Biotechnology   \n",
       "1                Commercial Services   \n",
       "2                Commercial Services   \n",
       "3                           Software   \n",
       "4                Commercial Products   \n",
       "\n",
       "                                         Verticals  Total Raised  \\\n",
       "0                            AgTech, Life Sciences          2.10   \n",
       "1  3D Printing, E-Commerce, Industrials, SaaS, TMT         29.52   \n",
       "2                              AdTech, Mobile, TMT         76.09   \n",
       "3    Augmented Reality, SaaS, TMT, Virtual Reality         42.22   \n",
       "4                                              TMT         74.00   \n",
       "\n",
       "                                    Active Investors  # Active Investors  \\\n",
       "0  Carmen Innovation, Maumee Ventures, Ohio Tech ...                10.0   \n",
       "1  Arthur Kosten, Balderton Capital, Endeit Capit...                11.0   \n",
       "2  Big Basin Partners, Comcast Ventures, Costella...                14.0   \n",
       "3  Advancit Capital, Andrew Hendricks, Baidu Vent...                29.0   \n",
       "4  Alan Marshall, ARCH Venture Partners, Artur St...                29.0   \n",
       "\n",
       "  First Financing Date  First Financing Size First Financing Deal Type  \\\n",
       "0           2014-07-15                  0.10                     Grant   \n",
       "1           2013-04-01                  0.02     Accelerator/Incubator   \n",
       "2           2004-10-13                  0.42            Early Stage VC   \n",
       "3           2014-07-01                  1.00        Angel (individual)   \n",
       "4           2012-12-06                  8.49            Early Stage VC   \n",
       "\n",
       "  First Financing Deal Class Last Financing Date  Last Financing Size  \\\n",
       "0                      Other          2017-10-18                 0.60   \n",
       "1                      Other          2019-03-26                18.00   \n",
       "2            Venture Capital          2014-08-05                 1.50   \n",
       "3                 Individual          2017-02-13                26.74   \n",
       "4            Venture Capital          2019-04-29                17.50   \n",
       "\n",
       "  Last Financing Deal Type Last Financing Deal Class  Growth Rate  \n",
       "0                    Grant                     Other         9.29  \n",
       "1           Later Stage VC           Venture Capital         0.08  \n",
       "2         Debt Refinancing                      Debt        -1.12  \n",
       "3           Early Stage VC           Venture Capital         1.66  \n",
       "4           Later Stage VC           Venture Capital         0.20  "
      ]
     },
     "execution_count": 31,
     "metadata": {},
     "output_type": "execute_result"
    }
   ],
   "source": [
    "venture.head()"
   ]
  },
  {
   "cell_type": "code",
   "execution_count": 48,
   "metadata": {},
   "outputs": [
    {
     "name": "stdout",
     "output_type": "stream",
     "text": [
      "total number of sectors: 7\n",
      "Information Technology                  227\n",
      "Consumer Products and Services (B2C)     64\n",
      "Business Products and Services (B2B)     57\n",
      "Healthcare                               17\n",
      "Energy                                   17\n",
      "Financial Services                        7\n",
      "Materials and Resources                   3\n",
      "Name: Primary Industry Sector, dtype: int64\n"
     ]
    }
   ],
   "source": [
    "prim_count = venture['Primary Industry Sector'].value_counts()\n",
    "\n",
    "print(f'total number of sectors: {len(prim_count)}')\n",
    "print(prim_count)\n"
   ]
  },
  {
   "cell_type": "code",
   "execution_count": 49,
   "metadata": {},
   "outputs": [
    {
     "name": "stdout",
     "output_type": "stream",
     "text": [
      "total number of industry groups: 30\n",
      "Primary Industry Sector               Primary Industry Group              \n",
      "Business Products and Services (B2B)  Commercial Services                      37\n",
      "                                      Commercial Products                      18\n",
      "                                      Commercial Transportation                 2\n",
      "Consumer Products and Services (B2C)  Media                                    17\n",
      "                                      Consumer Durables                        14\n",
      "                                      Consumer Non-Durables                    13\n",
      "                                      Retail                                    6\n",
      "                                      Services (Non-Financial)                  5\n",
      "                                      Transportation                            4\n",
      "                                      Apparel and Accessories                   2\n",
      "                                      Restaurants, Hotels and Leisure           2\n",
      "                                      Other Consumer Products and Services      1\n",
      "Energy                                Energy Equipment                          8\n",
      "                                      Energy Services                           7\n",
      "                                      Exploration, Production and Refining      1\n",
      "                                      Utilities                                 1\n",
      "Financial Services                    Other Financial Services                  4\n",
      "                                      Insurance                                 2\n",
      "                                      Capital Markets/Institutions              1\n",
      "Healthcare                            Healthcare Devices and Supplies           7\n",
      "                                      Healthcare Technology Systems             5\n",
      "                                      Pharmaceuticals and Biotechnology         4\n",
      "                                      Healthcare Services                       1\n",
      "Information Technology                Software                                193\n",
      "                                      Computer Hardware                        12\n",
      "                                      Communications and Networking            10\n",
      "                                      Semiconductors                            7\n",
      "                                      IT Services                               5\n",
      "Materials and Resources               Agriculture                               2\n",
      "                                      Metals, Minerals and Mining               1\n",
      "Name: Primary Industry Group, dtype: int64\n"
     ]
    }
   ],
   "source": [
    "group_count = venture.groupby('Primary Industry Sector')['Primary Industry Group'].value_counts()\n",
    "print(f'total number of industry groups: {len(group_count)}')\n",
    "print(group_count)\n"
   ]
  },
  {
   "cell_type": "code",
   "execution_count": 53,
   "metadata": {},
   "outputs": [
    {
     "data": {
      "text/plain": [
       "TMT                                                       33\n",
       "SaaS, TMT                                                 32\n",
       "Mobile, SaaS, TMT                                         12\n",
       "Mobile, TMT                                               10\n",
       "Cybersecurity, TMT                                        10\n",
       "                                                          ..\n",
       "FoodTech, Impact Investing, Restaurant Technology, TMT     1\n",
       "Gaming, TMT, Virtual Reality                               1\n",
       "Cybersecurity, Internet of Things, SaaS, TMT               1\n",
       "Industrials, Manufacturing, Nanotechnology, TMT            1\n",
       "Manufacturing, Nanotechnology                              1\n",
       "Name: Verticals, Length: 191, dtype: int64"
      ]
     },
     "execution_count": 53,
     "metadata": {},
     "output_type": "execute_result"
    }
   ],
   "source": [
    "verticals = venture['Verticals'].value_counts()\n",
    "verticals"
   ]
  },
  {
   "cell_type": "code",
   "execution_count": 66,
   "metadata": {},
   "outputs": [
    {
     "ename": "AttributeError",
     "evalue": "Cannot access attribute 'str' of 'SeriesGroupBy' objects, try using the 'apply' method",
     "output_type": "error",
     "traceback": [
      "\u001b[1;31m---------------------------------------------------------------------------\u001b[0m",
      "\u001b[1;31mAttributeError\u001b[0m                            Traceback (most recent call last)",
      "\u001b[1;32m<ipython-input-66-cada5f85a18d>\u001b[0m in \u001b[0;36m<module>\u001b[1;34m\u001b[0m\n\u001b[1;32m----> 1\u001b[1;33m \u001b[0mdf\u001b[0m \u001b[1;33m=\u001b[0m \u001b[0mventure\u001b[0m\u001b[1;33m.\u001b[0m\u001b[0mgroupby\u001b[0m\u001b[1;33m(\u001b[0m\u001b[1;34m'Verticals'\u001b[0m\u001b[1;33m)\u001b[0m\u001b[1;33m[\u001b[0m\u001b[1;34m'Verticals'\u001b[0m\u001b[1;33m]\u001b[0m\u001b[1;33m.\u001b[0m\u001b[0mstr\u001b[0m\u001b[1;33m.\u001b[0m\u001b[0msplit\u001b[0m\u001b[1;33m(\u001b[0m\u001b[1;34m','\u001b[0m\u001b[1;33m,\u001b[0m \u001b[0mexpand\u001b[0m \u001b[1;33m=\u001b[0m \u001b[1;32mTrue\u001b[0m\u001b[1;33m)\u001b[0m\u001b[1;33m\u001b[0m\u001b[1;33m\u001b[0m\u001b[0m\n\u001b[0m\u001b[0;32m      2\u001b[0m \u001b[1;33m\u001b[0m\u001b[0m\n",
      "\u001b[1;32m~\\Anaconda3\\lib\\site-packages\\pandas\\core\\groupby\\groupby.py\u001b[0m in \u001b[0;36m__getattr__\u001b[1;34m(self, attr)\u001b[0m\n\u001b[0;32m    561\u001b[0m             \u001b[1;32mreturn\u001b[0m \u001b[0mself\u001b[0m\u001b[1;33m[\u001b[0m\u001b[0mattr\u001b[0m\u001b[1;33m]\u001b[0m\u001b[1;33m\u001b[0m\u001b[1;33m\u001b[0m\u001b[0m\n\u001b[0;32m    562\u001b[0m         \u001b[1;32mif\u001b[0m \u001b[0mhasattr\u001b[0m\u001b[1;33m(\u001b[0m\u001b[0mself\u001b[0m\u001b[1;33m.\u001b[0m\u001b[0mobj\u001b[0m\u001b[1;33m,\u001b[0m \u001b[0mattr\u001b[0m\u001b[1;33m)\u001b[0m\u001b[1;33m:\u001b[0m\u001b[1;33m\u001b[0m\u001b[1;33m\u001b[0m\u001b[0m\n\u001b[1;32m--> 563\u001b[1;33m             \u001b[1;32mreturn\u001b[0m \u001b[0mself\u001b[0m\u001b[1;33m.\u001b[0m\u001b[0m_make_wrapper\u001b[0m\u001b[1;33m(\u001b[0m\u001b[0mattr\u001b[0m\u001b[1;33m)\u001b[0m\u001b[1;33m\u001b[0m\u001b[1;33m\u001b[0m\u001b[0m\n\u001b[0m\u001b[0;32m    564\u001b[0m \u001b[1;33m\u001b[0m\u001b[0m\n\u001b[0;32m    565\u001b[0m         raise AttributeError(\n",
      "\u001b[1;32m~\\Anaconda3\\lib\\site-packages\\pandas\\core\\groupby\\groupby.py\u001b[0m in \u001b[0;36m_make_wrapper\u001b[1;34m(self, name)\u001b[0m\n\u001b[0;32m    602\u001b[0m                 \u001b[1;34m\"using the 'apply' method\"\u001b[0m\u001b[1;33m.\u001b[0m\u001b[0mformat\u001b[0m\u001b[1;33m(\u001b[0m\u001b[0mkind\u001b[0m\u001b[1;33m,\u001b[0m \u001b[0mname\u001b[0m\u001b[1;33m,\u001b[0m \u001b[0mtype\u001b[0m\u001b[1;33m(\u001b[0m\u001b[0mself\u001b[0m\u001b[1;33m)\u001b[0m\u001b[1;33m.\u001b[0m\u001b[0m__name__\u001b[0m\u001b[1;33m)\u001b[0m\u001b[1;33m\u001b[0m\u001b[1;33m\u001b[0m\u001b[0m\n\u001b[0;32m    603\u001b[0m             )\n\u001b[1;32m--> 604\u001b[1;33m             \u001b[1;32mraise\u001b[0m \u001b[0mAttributeError\u001b[0m\u001b[1;33m(\u001b[0m\u001b[0mmsg\u001b[0m\u001b[1;33m)\u001b[0m\u001b[1;33m\u001b[0m\u001b[1;33m\u001b[0m\u001b[0m\n\u001b[0m\u001b[0;32m    605\u001b[0m \u001b[1;33m\u001b[0m\u001b[0m\n\u001b[0;32m    606\u001b[0m         \u001b[0mself\u001b[0m\u001b[1;33m.\u001b[0m\u001b[0m_set_group_selection\u001b[0m\u001b[1;33m(\u001b[0m\u001b[1;33m)\u001b[0m\u001b[1;33m\u001b[0m\u001b[1;33m\u001b[0m\u001b[0m\n",
      "\u001b[1;31mAttributeError\u001b[0m: Cannot access attribute 'str' of 'SeriesGroupBy' objects, try using the 'apply' method"
     ]
    }
   ],
   "source": [
    "df = venture.groupby('Verticals')['Verticals'].str.split(',', expand = True)\n",
    "\n"
   ]
  },
  {
   "cell_type": "code",
   "execution_count": 54,
   "metadata": {},
   "outputs": [
    {
     "name": "stdout",
     "output_type": "stream",
     "text": [
      "Number of deal types: 13\n",
      "['Grant' 'Accelerator/Incubator' 'Early Stage VC' 'Angel (individual)'\n",
      " 'Corporate' 'Seed Round' 'Later Stage VC' 'Convertible Debt'\n",
      " 'Debt - General' 'Buyout/LBO' 'Capitalization' 'Product Crowdfunding'\n",
      " 'Mezzanine']\n"
     ]
    }
   ],
   "source": [
    "deal_type = venture['First Financing Deal Type'].unique()\n",
    "print(f'Number of deal types: {len(deal_type)}')\n",
    "print(deal_type)"
   ]
  },
  {
   "cell_type": "code",
   "execution_count": null,
   "metadata": {},
   "outputs": [],
   "source": []
  }
 ],
 "metadata": {
  "kernelspec": {
   "display_name": "Python 3",
   "language": "python",
   "name": "python3"
  },
  "language_info": {
   "codemirror_mode": {
    "name": "ipython",
    "version": 3
   },
   "file_extension": ".py",
   "mimetype": "text/x-python",
   "name": "python",
   "nbconvert_exporter": "python",
   "pygments_lexer": "ipython3",
   "version": "3.7.4"
  }
 },
 "nbformat": 4,
 "nbformat_minor": 2
}
