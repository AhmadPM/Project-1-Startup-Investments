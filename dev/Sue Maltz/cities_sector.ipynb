{
 "cells": [
  {
   "cell_type": "code",
   "execution_count": 1,
   "metadata": {},
   "outputs": [],
   "source": [
    "import pandas as pd\n",
    "import matplotlib.pyplot as plt\n",
    "import numpy as np\n",
    "from collections import Counter\n"
   ]
  },
  {
   "cell_type": "code",
   "execution_count": 2,
   "metadata": {},
   "outputs": [
    {
     "data": {
      "text/html": [
       "<div>\n",
       "<style scoped>\n",
       "    .dataframe tbody tr th:only-of-type {\n",
       "        vertical-align: middle;\n",
       "    }\n",
       "\n",
       "    .dataframe tbody tr th {\n",
       "        vertical-align: top;\n",
       "    }\n",
       "\n",
       "    .dataframe thead th {\n",
       "        text-align: right;\n",
       "    }\n",
       "</style>\n",
       "<table border=\"1\" class=\"dataframe\">\n",
       "  <thead>\n",
       "    <tr style=\"text-align: right;\">\n",
       "      <th></th>\n",
       "      <th>Unnamed: 0</th>\n",
       "      <th>Company Name</th>\n",
       "      <th>Total Raised_x</th>\n",
       "      <th>Year Founded_x</th>\n",
       "      <th># Active Investors_x</th>\n",
       "      <th>Growth Rate_x</th>\n",
       "      <th>Growth Rate Percentile_x</th>\n",
       "      <th>Web Growth Rate_x</th>\n",
       "      <th>Web Growth Rate Percentile_x</th>\n",
       "      <th>Social Growth Rate_x</th>\n",
       "      <th>...</th>\n",
       "      <th>HQ Location</th>\n",
       "      <th>HQ Country</th>\n",
       "      <th>HQ Global Region</th>\n",
       "      <th>Active Investors</th>\n",
       "      <th>First Financing Date</th>\n",
       "      <th>First Financing Deal Type</th>\n",
       "      <th>First Financing Deal Class</th>\n",
       "      <th>Last Financing Date</th>\n",
       "      <th>Last Financing Deal Type</th>\n",
       "      <th>Last Financing Deal Class</th>\n",
       "    </tr>\n",
       "  </thead>\n",
       "  <tbody>\n",
       "    <tr>\n",
       "      <td>0</td>\n",
       "      <td>0</td>\n",
       "      <td>3D Hubs</td>\n",
       "      <td>29.52</td>\n",
       "      <td>2013.0</td>\n",
       "      <td>11.0</td>\n",
       "      <td>0.08</td>\n",
       "      <td>89.0</td>\n",
       "      <td>0.12</td>\n",
       "      <td>94.0</td>\n",
       "      <td>0.05</td>\n",
       "      <td>...</td>\n",
       "      <td>Amsterdam, Netherlands</td>\n",
       "      <td>Netherlands</td>\n",
       "      <td>Europe</td>\n",
       "      <td>Arthur Kosten, Balderton Capital, Endeit Capit...</td>\n",
       "      <td>2013-04-01</td>\n",
       "      <td>Accelerator/Incubator</td>\n",
       "      <td>Other</td>\n",
       "      <td>2019-03-26</td>\n",
       "      <td>Later Stage VC</td>\n",
       "      <td>Venture Capital</td>\n",
       "    </tr>\n",
       "  </tbody>\n",
       "</table>\n",
       "<p>1 rows × 32 columns</p>\n",
       "</div>"
      ],
      "text/plain": [
       "   Unnamed: 0 Company Name  Total Raised_x  Year Founded_x  \\\n",
       "0           0      3D Hubs           29.52          2013.0   \n",
       "\n",
       "   # Active Investors_x  Growth Rate_x  Growth Rate Percentile_x  \\\n",
       "0                  11.0           0.08                      89.0   \n",
       "\n",
       "   Web Growth Rate_x  Web Growth Rate Percentile_x  Social Growth Rate_x  ...  \\\n",
       "0               0.12                          94.0                  0.05  ...   \n",
       "\n",
       "              HQ Location   HQ Country  HQ Global Region  \\\n",
       "0  Amsterdam, Netherlands  Netherlands            Europe   \n",
       "\n",
       "                                    Active Investors  First Financing Date  \\\n",
       "0  Arthur Kosten, Balderton Capital, Endeit Capit...            2013-04-01   \n",
       "\n",
       "   First Financing Deal Type First Financing Deal Class Last Financing Date  \\\n",
       "0      Accelerator/Incubator                      Other          2019-03-26   \n",
       "\n",
       "  Last Financing Deal Type Last Financing Deal Class  \n",
       "0           Later Stage VC           Venture Capital  \n",
       "\n",
       "[1 rows x 32 columns]"
      ]
     },
     "execution_count": 2,
     "metadata": {},
     "output_type": "execute_result"
    }
   ],
   "source": [
    "file = (\"StartupInvestments.csv\")\n",
    "file1 = (\"locations.csv\")\n",
    "df = pd.read_csv(file, encoding=\"ISO-8859-1\")\n",
    "df1=pd.read_csv(file1)\n",
    "df.head(1)"
   ]
  },
  {
   "cell_type": "code",
   "execution_count": 3,
   "metadata": {},
   "outputs": [
    {
     "data": {
      "text/plain": [
       "Unnamed: 0                          397\n",
       "Company Name                        397\n",
       "Total Raised_x                      397\n",
       "Year Founded_x                      397\n",
       "# Active Investors_x                397\n",
       "Growth Rate_x                       397\n",
       "Growth Rate Percentile_x            397\n",
       "Web Growth Rate_x                   397\n",
       "Web Growth Rate Percentile_x        397\n",
       "Social Growth Rate_x                397\n",
       "Social Growth Rate Percentile_x     397\n",
       "Twitter Growth Rate_x               397\n",
       "Twitter Growth Rate Percentile_x    397\n",
       "Twitter Followers_x                 397\n",
       "Last Financing Size_x               397\n",
       "First Financing Size_x              397\n",
       "Programming Languages               397\n",
       "Software Applications               397\n",
       "Primary Industry Code               397\n",
       "Primary Industry Sector             397\n",
       "Primary Industry Group              397\n",
       "Verticals                           397\n",
       "location                            397\n",
       "HQ Country                          397\n",
       "HQ Global Region                    397\n",
       "Active Investors                    397\n",
       "First Financing Date                397\n",
       "First Financing Deal Type           397\n",
       "First Financing Deal Class          397\n",
       "Last Financing Date                 397\n",
       "Last Financing Deal Type            397\n",
       "Last Financing Deal Class           397\n",
       "dtype: int64"
      ]
     },
     "execution_count": 3,
     "metadata": {},
     "output_type": "execute_result"
    }
   ],
   "source": [
    "df.rename(columns = {'HQ Location': 'location'}, inplace=True)\n",
    "df.count()"
   ]
  },
  {
   "cell_type": "code",
   "execution_count": 4,
   "metadata": {},
   "outputs": [
    {
     "name": "stderr",
     "output_type": "stream",
     "text": [
      "C:\\Users\\subil\\AppData\\Local\\Continuum\\anaconda3\\lib\\site-packages\\pandas\\core\\frame.py:3494: SettingWithCopyWarning: \n",
      "A value is trying to be set on a copy of a slice from a DataFrame.\n",
      "Try using .loc[row_indexer,col_indexer] = value instead\n",
      "\n",
      "See the caveats in the documentation: http://pandas.pydata.org/pandas-docs/stable/user_guide/indexing.html#returning-a-view-versus-a-copy\n",
      "  self[k1] = value[k2]\n"
     ]
    },
    {
     "data": {
      "text/html": [
       "<div>\n",
       "<style scoped>\n",
       "    .dataframe tbody tr th:only-of-type {\n",
       "        vertical-align: middle;\n",
       "    }\n",
       "\n",
       "    .dataframe tbody tr th {\n",
       "        vertical-align: top;\n",
       "    }\n",
       "\n",
       "    .dataframe thead th {\n",
       "        text-align: right;\n",
       "    }\n",
       "</style>\n",
       "<table border=\"1\" class=\"dataframe\">\n",
       "  <thead>\n",
       "    <tr style=\"text-align: right;\">\n",
       "      <th></th>\n",
       "      <th>location</th>\n",
       "      <th>City</th>\n",
       "      <th>State</th>\n",
       "    </tr>\n",
       "  </thead>\n",
       "  <tbody>\n",
       "    <tr>\n",
       "      <td>0</td>\n",
       "      <td>Amsterdam, Netherlands</td>\n",
       "      <td>Amsterdam</td>\n",
       "      <td>Netherlands</td>\n",
       "    </tr>\n",
       "    <tr>\n",
       "      <td>1</td>\n",
       "      <td>San Mateo, CA</td>\n",
       "      <td>San Mateo</td>\n",
       "      <td>CA</td>\n",
       "    </tr>\n",
       "    <tr>\n",
       "      <td>2</td>\n",
       "      <td>Los Angeles, CA</td>\n",
       "      <td>Los Angeles</td>\n",
       "      <td>CA</td>\n",
       "    </tr>\n",
       "    <tr>\n",
       "      <td>3</td>\n",
       "      <td>Boston, MA</td>\n",
       "      <td>Boston</td>\n",
       "      <td>MA</td>\n",
       "    </tr>\n",
       "    <tr>\n",
       "      <td>4</td>\n",
       "      <td>Oakland, CA</td>\n",
       "      <td>Oakland</td>\n",
       "      <td>CA</td>\n",
       "    </tr>\n",
       "    <tr>\n",
       "      <td>...</td>\n",
       "      <td>...</td>\n",
       "      <td>...</td>\n",
       "      <td>...</td>\n",
       "    </tr>\n",
       "    <tr>\n",
       "      <td>392</td>\n",
       "      <td>Wilmington, NC</td>\n",
       "      <td>Wilmington</td>\n",
       "      <td>NC</td>\n",
       "    </tr>\n",
       "    <tr>\n",
       "      <td>393</td>\n",
       "      <td>Tokyo, Japan</td>\n",
       "      <td>Tokyo</td>\n",
       "      <td>Japan</td>\n",
       "    </tr>\n",
       "    <tr>\n",
       "      <td>394</td>\n",
       "      <td>Palo Alto, CA</td>\n",
       "      <td>Palo Alto</td>\n",
       "      <td>CA</td>\n",
       "    </tr>\n",
       "    <tr>\n",
       "      <td>395</td>\n",
       "      <td>Santa Monica, CA</td>\n",
       "      <td>Santa Monica</td>\n",
       "      <td>CA</td>\n",
       "    </tr>\n",
       "    <tr>\n",
       "      <td>396</td>\n",
       "      <td>London, United Kingdom</td>\n",
       "      <td>London</td>\n",
       "      <td>United Kingdom</td>\n",
       "    </tr>\n",
       "  </tbody>\n",
       "</table>\n",
       "<p>397 rows × 3 columns</p>\n",
       "</div>"
      ],
      "text/plain": [
       "                   location          City            State\n",
       "0    Amsterdam, Netherlands     Amsterdam      Netherlands\n",
       "1             San Mateo, CA     San Mateo               CA\n",
       "2           Los Angeles, CA   Los Angeles               CA\n",
       "3                Boston, MA        Boston               MA\n",
       "4               Oakland, CA       Oakland               CA\n",
       "..                      ...           ...              ...\n",
       "392          Wilmington, NC    Wilmington               NC\n",
       "393            Tokyo, Japan         Tokyo            Japan\n",
       "394           Palo Alto, CA     Palo Alto               CA\n",
       "395        Santa Monica, CA  Santa Monica               CA\n",
       "396  London, United Kingdom        London   United Kingdom\n",
       "\n",
       "[397 rows x 3 columns]"
      ]
     },
     "execution_count": 4,
     "metadata": {},
     "output_type": "execute_result"
    }
   ],
   "source": [
    "#Separate the locations into City and States\n",
    "df2 = df.copy()\n",
    "col = [\"location\"]\n",
    "df_data = df2[col]\n",
    "df_data[['City','State']] = df_data.location.str.split(\",\",expand=True,)\n",
    "df_data"
   ]
  },
  {
   "cell_type": "code",
   "execution_count": 5,
   "metadata": {},
   "outputs": [
    {
     "data": {
      "text/html": [
       "<div>\n",
       "<style scoped>\n",
       "    .dataframe tbody tr th:only-of-type {\n",
       "        vertical-align: middle;\n",
       "    }\n",
       "\n",
       "    .dataframe tbody tr th {\n",
       "        vertical-align: top;\n",
       "    }\n",
       "\n",
       "    .dataframe thead th {\n",
       "        text-align: right;\n",
       "    }\n",
       "</style>\n",
       "<table border=\"1\" class=\"dataframe\">\n",
       "  <thead>\n",
       "    <tr style=\"text-align: right;\">\n",
       "      <th></th>\n",
       "      <th>location</th>\n",
       "      <th>City</th>\n",
       "      <th>State</th>\n",
       "    </tr>\n",
       "  </thead>\n",
       "  <tbody>\n",
       "    <tr>\n",
       "      <td>177</td>\n",
       "      <td>CA</td>\n",
       "      <td>CA</td>\n",
       "      <td>None</td>\n",
       "    </tr>\n",
       "  </tbody>\n",
       "</table>\n",
       "</div>"
      ],
      "text/plain": [
       "    location City State\n",
       "177       CA   CA  None"
      ]
     },
     "execution_count": 5,
     "metadata": {},
     "output_type": "execute_result"
    }
   ],
   "source": [
    "#Look if there's any columns from 'State' empty\n",
    "df_data.loc[ df_data.isnull().any(axis=1)]"
   ]
  },
  {
   "cell_type": "code",
   "execution_count": 6,
   "metadata": {},
   "outputs": [
    {
     "name": "stderr",
     "output_type": "stream",
     "text": [
      "C:\\Users\\subil\\AppData\\Local\\Continuum\\anaconda3\\lib\\site-packages\\pandas\\core\\generic.py:6287: SettingWithCopyWarning: \n",
      "A value is trying to be set on a copy of a slice from a DataFrame\n",
      "\n",
      "See the caveats in the documentation: http://pandas.pydata.org/pandas-docs/stable/user_guide/indexing.html#returning-a-view-versus-a-copy\n",
      "  self._update_inplace(new_data)\n"
     ]
    }
   ],
   "source": [
    "#Fill the empty cell\n",
    "df_data['State'].fillna('CA', inplace=True)"
   ]
  },
  {
   "cell_type": "code",
   "execution_count": 7,
   "metadata": {},
   "outputs": [
    {
     "data": {
      "text/plain": [
       "dict_items([('', 396), ('Netherlands', 1), ('CA', 182), ('MA', 30), ('IL', 8), ('PA', 6), ('France', 3), ('MO', 2), ('NC', 6), ('Canada', 10), ('TX', 14), ('WA', 8), ('NY', 41), ('DC', 3), ('Switzerland', 5), ('OR', 1), ('Israel', 12), ('United', 8), ('Kingdom', 8), ('Germany', 5), ('Spain', 3), ('GA', 4), ('Singapore', 1), ('MD', 3), ('VA', 5), ('India', 4), ('MN', 1), ('UT', 3), ('CO', 5), ('OH', 1), ('Japan', 6), ('AZ', 1), ('Ireland', 1), ('NJ', 1), ('Belgium', 1), ('MI', 3), ('Uganda', 1), ('China', 1), ('IN', 3), ('Taiwan', 1), ('Portugal', 1), ('Sweden', 1), ('CT', 1)])"
      ]
     },
     "execution_count": 7,
     "metadata": {},
     "output_type": "execute_result"
    }
   ],
   "source": [
    "#Count how many startups each State has\n",
    "results = Counter(\" \".join(df_data['State'].values.tolist()).split(\" \")).items()\n",
    "results"
   ]
  },
  {
   "cell_type": "code",
   "execution_count": 8,
   "metadata": {},
   "outputs": [
    {
     "data": {
      "text/html": [
       "<div>\n",
       "<style scoped>\n",
       "    .dataframe tbody tr th:only-of-type {\n",
       "        vertical-align: middle;\n",
       "    }\n",
       "\n",
       "    .dataframe tbody tr th {\n",
       "        vertical-align: top;\n",
       "    }\n",
       "\n",
       "    .dataframe thead th {\n",
       "        text-align: right;\n",
       "    }\n",
       "</style>\n",
       "<table border=\"1\" class=\"dataframe\">\n",
       "  <thead>\n",
       "    <tr style=\"text-align: right;\">\n",
       "      <th></th>\n",
       "      <th>State</th>\n",
       "      <th>amount</th>\n",
       "    </tr>\n",
       "  </thead>\n",
       "  <tbody>\n",
       "    <tr>\n",
       "      <td>0</td>\n",
       "      <td></td>\n",
       "      <td>396</td>\n",
       "    </tr>\n",
       "    <tr>\n",
       "      <td>2</td>\n",
       "      <td>CA</td>\n",
       "      <td>182</td>\n",
       "    </tr>\n",
       "    <tr>\n",
       "      <td>12</td>\n",
       "      <td>NY</td>\n",
       "      <td>41</td>\n",
       "    </tr>\n",
       "    <tr>\n",
       "      <td>3</td>\n",
       "      <td>MA</td>\n",
       "      <td>30</td>\n",
       "    </tr>\n",
       "    <tr>\n",
       "      <td>10</td>\n",
       "      <td>TX</td>\n",
       "      <td>14</td>\n",
       "    </tr>\n",
       "  </tbody>\n",
       "</table>\n",
       "</div>"
      ],
      "text/plain": [
       "   State  amount\n",
       "0            396\n",
       "2     CA     182\n",
       "12    NY      41\n",
       "3     MA      30\n",
       "10    TX      14"
      ]
     },
     "execution_count": 8,
     "metadata": {},
     "output_type": "execute_result"
    }
   ],
   "source": [
    "#Get the 4 biggest States with Startup\n",
    "map_df = pd.DataFrame(results, columns=['State','amount'])\n",
    "map_data = map_df.nlargest(5,['amount'])\n",
    "map_data"
   ]
  },
  {
   "cell_type": "code",
   "execution_count": 9,
   "metadata": {},
   "outputs": [
    {
     "data": {
      "text/html": [
       "<div>\n",
       "<style scoped>\n",
       "    .dataframe tbody tr th:only-of-type {\n",
       "        vertical-align: middle;\n",
       "    }\n",
       "\n",
       "    .dataframe tbody tr th {\n",
       "        vertical-align: top;\n",
       "    }\n",
       "\n",
       "    .dataframe thead th {\n",
       "        text-align: right;\n",
       "    }\n",
       "</style>\n",
       "<table border=\"1\" class=\"dataframe\">\n",
       "  <thead>\n",
       "    <tr style=\"text-align: right;\">\n",
       "      <th></th>\n",
       "      <th>State</th>\n",
       "      <th>amount</th>\n",
       "    </tr>\n",
       "  </thead>\n",
       "  <tbody>\n",
       "    <tr>\n",
       "      <td>2</td>\n",
       "      <td>CA</td>\n",
       "      <td>182</td>\n",
       "    </tr>\n",
       "    <tr>\n",
       "      <td>12</td>\n",
       "      <td>NY</td>\n",
       "      <td>41</td>\n",
       "    </tr>\n",
       "    <tr>\n",
       "      <td>3</td>\n",
       "      <td>MA</td>\n",
       "      <td>30</td>\n",
       "    </tr>\n",
       "    <tr>\n",
       "      <td>10</td>\n",
       "      <td>TX</td>\n",
       "      <td>14</td>\n",
       "    </tr>\n",
       "  </tbody>\n",
       "</table>\n",
       "</div>"
      ],
      "text/plain": [
       "   State  amount\n",
       "2     CA     182\n",
       "12    NY      41\n",
       "3     MA      30\n",
       "10    TX      14"
      ]
     },
     "execution_count": 9,
     "metadata": {},
     "output_type": "execute_result"
    }
   ],
   "source": [
    "#Drop the first line, it's the total and I don't need it\n",
    "map_data.drop([0], inplace=True)\n",
    "map_data"
   ]
  },
  {
   "cell_type": "code",
   "execution_count": 10,
   "metadata": {},
   "outputs": [],
   "source": [
    "#Create a csv file with the 4 biggest States\n",
    "map_data.to_csv('state.csv', index=False)"
   ]
  },
  {
   "cell_type": "code",
   "execution_count": 11,
   "metadata": {},
   "outputs": [
    {
     "data": {
      "text/plain": [
       "dict_items([('Netherlands', 1), ('UnitedStates', 332), ('France', 3), ('Canada', 10), ('Switzerland', 5), ('Israel', 12), ('UnitedKingdom', 8), ('Germany', 5), ('Spain', 3), ('Singapore', 1), ('India', 4), ('Japan', 6), ('Ireland', 1), ('Belgium', 1), ('Uganda', 1), ('China', 1), ('Taiwan', 1), ('Portugal', 1), ('Sweden', 1)])"
      ]
     },
     "execution_count": 11,
     "metadata": {},
     "output_type": "execute_result"
    }
   ],
   "source": [
    "#Checking how many startups in each country this data \n",
    "df['HQ Country'] = df[\"HQ Country\"].str.replace(\" \",\"\")\n",
    "result = Counter(\" \".join(df['HQ Country'].values.tolist()).split(\" \")).items()\n",
    "result"
   ]
  },
  {
   "cell_type": "code",
   "execution_count": 12,
   "metadata": {},
   "outputs": [
    {
     "data": {
      "text/plain": [
       "dict_items([('BusinessProductsandServices(B2B)', 63), ('InformationTechnology', 230), ('ConsumerProductsandServices(B2C)', 66), ('Healthcare', 15), ('Energy', 15), ('MaterialsandResources', 2), ('FinancialServices', 6)])"
      ]
     },
     "execution_count": 12,
     "metadata": {},
     "output_type": "execute_result"
    }
   ],
   "source": [
    "#Couting the sectors of the startups \n",
    "df['Primary Industry Sector'] = df[\"Primary Industry Sector\"].str.replace(\" \",\"\")\n",
    "result = Counter(\" \".join(df['Primary Industry Sector'].values.tolist()).split(\" \")).items()\n",
    "result"
   ]
  },
  {
   "cell_type": "code",
   "execution_count": 41,
   "metadata": {
    "scrolled": false
   },
   "outputs": [
    {
     "data": {
      "text/html": [
       "<div>\n",
       "<style scoped>\n",
       "    .dataframe tbody tr th:only-of-type {\n",
       "        vertical-align: middle;\n",
       "    }\n",
       "\n",
       "    .dataframe tbody tr th {\n",
       "        vertical-align: top;\n",
       "    }\n",
       "\n",
       "    .dataframe thead th {\n",
       "        text-align: right;\n",
       "    }\n",
       "</style>\n",
       "<table border=\"1\" class=\"dataframe\">\n",
       "  <thead>\n",
       "    <tr style=\"text-align: right;\">\n",
       "      <th></th>\n",
       "      <th>sector</th>\n",
       "      <th>number</th>\n",
       "    </tr>\n",
       "  </thead>\n",
       "  <tbody>\n",
       "    <tr>\n",
       "      <td>0</td>\n",
       "      <td>BusinessProductsandServices(B2B)</td>\n",
       "      <td>63</td>\n",
       "    </tr>\n",
       "    <tr>\n",
       "      <td>1</td>\n",
       "      <td>InformationTechnology</td>\n",
       "      <td>230</td>\n",
       "    </tr>\n",
       "    <tr>\n",
       "      <td>2</td>\n",
       "      <td>ConsumerProductsandServices(B2C)</td>\n",
       "      <td>66</td>\n",
       "    </tr>\n",
       "    <tr>\n",
       "      <td>3</td>\n",
       "      <td>Healthcare</td>\n",
       "      <td>15</td>\n",
       "    </tr>\n",
       "    <tr>\n",
       "      <td>4</td>\n",
       "      <td>Energy</td>\n",
       "      <td>15</td>\n",
       "    </tr>\n",
       "    <tr>\n",
       "      <td>5</td>\n",
       "      <td>MaterialsandResources</td>\n",
       "      <td>2</td>\n",
       "    </tr>\n",
       "    <tr>\n",
       "      <td>6</td>\n",
       "      <td>FinancialServices</td>\n",
       "      <td>6</td>\n",
       "    </tr>\n",
       "  </tbody>\n",
       "</table>\n",
       "</div>"
      ],
      "text/plain": [
       "                             sector  number\n",
       "0  BusinessProductsandServices(B2B)      63\n",
       "1             InformationTechnology     230\n",
       "2  ConsumerProductsandServices(B2C)      66\n",
       "3                        Healthcare      15\n",
       "4                            Energy      15\n",
       "5             MaterialsandResources       2\n",
       "6                 FinancialServices       6"
      ]
     },
     "execution_count": 41,
     "metadata": {},
     "output_type": "execute_result"
    }
   ],
   "source": [
    "#Create a df for the sectors\n",
    "sector_df = pd.DataFrame(result, columns=['sector', 'number'])\n",
    "sector_df"
   ]
  },
  {
   "cell_type": "code",
   "execution_count": 44,
   "metadata": {},
   "outputs": [],
   "source": [
    "#Put the df in order\n",
    "sector_df = sector_df.sort_values('number')"
   ]
  },
  {
   "cell_type": "code",
   "execution_count": 45,
   "metadata": {},
   "outputs": [
    {
     "data": {
      "image/png": "[encoded data removed]",
      "text/plain": [
       "<Figure size 864x576 with 1 Axes>"
      ]
     },
     "metadata": {
      "needs_background": "light"
     },
     "output_type": "display_data"
    }
   ],
   "source": [
    "# Create the chart\n",
    "y = sector_df['number']\n",
    "sector_df.plot(kind='barh',  x='sector', y='number', title =\"Startups by Sector\",figsize=(12, 8), legend=None, fontsize=12, alpha = 0.5)\n",
    "plt.xlabel('Amount of companies')\n",
    "plt.ylabel(' ')\n",
    "plt.tight_layout()\n",
    "\n",
    "for index, value in enumerate(y):\n",
    "    plt.text(value, index, str(value))"
   ]
  },
  {
   "cell_type": "code",
   "execution_count": null,
   "metadata": {},
   "outputs": [],
   "source": []
  }
 ],
 "metadata": {
  "kernelspec": {
   "display_name": "Python 3",
   "language": "python",
   "name": "python3"
  },
  "language_info": {
   "codemirror_mode": {
    "name": "ipython",
    "version": 3
   },
   "file_extension": ".py",
   "mimetype": "text/x-python",
   "name": "python",
   "nbconvert_exporter": "python",
   "pygments_lexer": "ipython3",
   "version": "3.7.4"
  }
 },
 "nbformat": 4,
 "nbformat_minor": 4
}
