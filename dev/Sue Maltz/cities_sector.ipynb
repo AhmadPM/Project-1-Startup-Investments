{
 "cells": [
  {
   "cell_type": "code",
   "execution_count": 1,
   "metadata": {},
   "outputs": [],
   "source": [
    "import pandas as pd\n",
    "import matplotlib.pyplot as plt\n",
    "import numpy as np\n",
    "from collections import Counter\n"
   ]
  },
  {
   "cell_type": "code",
   "execution_count": 2,
   "metadata": {},
   "outputs": [
    {
     "data": {
      "text/html": [
       "<div>\n",
       "<style scoped>\n",
       "    .dataframe tbody tr th:only-of-type {\n",
       "        vertical-align: middle;\n",
       "    }\n",
       "\n",
       "    .dataframe tbody tr th {\n",
       "        vertical-align: top;\n",
       "    }\n",
       "\n",
       "    .dataframe thead th {\n",
       "        text-align: right;\n",
       "    }\n",
       "</style>\n",
       "<table border=\"1\" class=\"dataframe\">\n",
       "  <thead>\n",
       "    <tr style=\"text-align: right;\">\n",
       "      <th></th>\n",
       "      <th>Unnamed: 0</th>\n",
       "      <th>Company Name</th>\n",
       "      <th>Primary Industry Code</th>\n",
       "      <th>Primary Industry Sector</th>\n",
       "      <th>Primary Industry Group</th>\n",
       "      <th>Verticals</th>\n",
       "      <th>Total Raised</th>\n",
       "      <th>Year Founded</th>\n",
       "      <th>HQ Location</th>\n",
       "      <th>HQ Country</th>\n",
       "      <th>...</th>\n",
       "      <th>Last Financing Deal Class</th>\n",
       "      <th>Growth Rate</th>\n",
       "      <th>Growth Rate Percentile</th>\n",
       "      <th>Web Growth Rate</th>\n",
       "      <th>Web Growth Rate Percentile</th>\n",
       "      <th>Social Growth Rate</th>\n",
       "      <th>Social Growth Rate Percentile</th>\n",
       "      <th>Twitter Growth Rate</th>\n",
       "      <th>Twitter Growth Rate Percentile</th>\n",
       "      <th>Twitter Followers</th>\n",
       "    </tr>\n",
       "  </thead>\n",
       "  <tbody>\n",
       "    <tr>\n",
       "      <td>0</td>\n",
       "      <td>2</td>\n",
       "      <td>Zylo</td>\n",
       "      <td>Media and Information Services (B2B)</td>\n",
       "      <td>Business Products and Services (B2B)</td>\n",
       "      <td>Commercial Services</td>\n",
       "      <td>SaaS, TMT</td>\n",
       "      <td>12.6</td>\n",
       "      <td>2016.0</td>\n",
       "      <td>Indianapolis, IN</td>\n",
       "      <td>United States</td>\n",
       "      <td>...</td>\n",
       "      <td>Venture Capital</td>\n",
       "      <td>2.23</td>\n",
       "      <td>99.0</td>\n",
       "      <td>3.8</td>\n",
       "      <td>100.0</td>\n",
       "      <td>0.66</td>\n",
       "      <td>96.0</td>\n",
       "      <td>0.66</td>\n",
       "      <td>96.0</td>\n",
       "      <td>1451.0</td>\n",
       "    </tr>\n",
       "  </tbody>\n",
       "</table>\n",
       "<p>1 rows × 30 columns</p>\n",
       "</div>"
      ],
      "text/plain": [
       "   Unnamed: 0 Company Name                 Primary Industry Code  \\\n",
       "0           2         Zylo  Media and Information Services (B2B)   \n",
       "\n",
       "                Primary Industry Sector Primary Industry Group  Verticals  \\\n",
       "0  Business Products and Services (B2B)    Commercial Services  SaaS, TMT   \n",
       "\n",
       "   Total Raised  Year Founded       HQ Location     HQ Country  ...  \\\n",
       "0          12.6        2016.0  Indianapolis, IN  United States  ...   \n",
       "\n",
       "  Last Financing Deal Class Growth Rate  Growth Rate Percentile  \\\n",
       "0           Venture Capital        2.23                    99.0   \n",
       "\n",
       "  Web Growth Rate  Web Growth Rate Percentile Social Growth Rate  \\\n",
       "0             3.8                       100.0               0.66   \n",
       "\n",
       "  Social Growth Rate Percentile Twitter Growth Rate  \\\n",
       "0                          96.0                0.66   \n",
       "\n",
       "   Twitter Growth Rate Percentile Twitter Followers  \n",
       "0                            96.0            1451.0  \n",
       "\n",
       "[1 rows x 30 columns]"
      ]
     },
     "execution_count": 2,
     "metadata": {},
     "output_type": "execute_result"
    }
   ],
   "source": [
    "file = (\"dataset.csv\")\n",
    "df = pd.read_csv(file, encoding=\"ISO-8859-1\")\n",
    "df.head(1)"
   ]
  },
  {
   "cell_type": "code",
   "execution_count": 3,
   "metadata": {},
   "outputs": [
    {
     "data": {
      "text/plain": [
       "Unnamed: 0                        741\n",
       "Company Name                      741\n",
       "Primary Industry Code             741\n",
       "Primary Industry Sector           741\n",
       "Primary Industry Group            741\n",
       "Verticals                         741\n",
       "Total Raised                      741\n",
       "Year Founded                      741\n",
       "location                          741\n",
       "HQ Country                        741\n",
       "HQ Global Region                  741\n",
       "Active Investors                  741\n",
       "# Active Investors                741\n",
       "First Financing Date              741\n",
       "First Financing Size              741\n",
       "First Financing Deal Type         741\n",
       "First Financing Deal Class        741\n",
       "Last Financing Date               741\n",
       "Last Financing Size               741\n",
       "Last Financing Deal Type          741\n",
       "Last Financing Deal Class         741\n",
       "Growth Rate                       741\n",
       "Growth Rate Percentile            741\n",
       "Web Growth Rate                   741\n",
       "Web Growth Rate Percentile        741\n",
       "Social Growth Rate                741\n",
       "Social Growth Rate Percentile     741\n",
       "Twitter Growth Rate               741\n",
       "Twitter Growth Rate Percentile    741\n",
       "Twitter Followers                 741\n",
       "dtype: int64"
      ]
     },
     "execution_count": 3,
     "metadata": {},
     "output_type": "execute_result"
    }
   ],
   "source": [
    "df.rename(columns = {'HQ Location': 'location'}, inplace=True)\n",
    "df.count()"
   ]
  },
  {
   "cell_type": "code",
   "execution_count": 4,
   "metadata": {},
   "outputs": [
    {
     "name": "stderr",
     "output_type": "stream",
     "text": [
      "C:\\Users\\subil\\AppData\\Local\\Continuum\\anaconda3\\lib\\site-packages\\pandas\\core\\frame.py:3494: SettingWithCopyWarning: \n",
      "A value is trying to be set on a copy of a slice from a DataFrame.\n",
      "Try using .loc[row_indexer,col_indexer] = value instead\n",
      "\n",
      "See the caveats in the documentation: http://pandas.pydata.org/pandas-docs/stable/user_guide/indexing.html#returning-a-view-versus-a-copy\n",
      "  self[k1] = value[k2]\n"
     ]
    },
    {
     "data": {
      "text/html": [
       "<div>\n",
       "<style scoped>\n",
       "    .dataframe tbody tr th:only-of-type {\n",
       "        vertical-align: middle;\n",
       "    }\n",
       "\n",
       "    .dataframe tbody tr th {\n",
       "        vertical-align: top;\n",
       "    }\n",
       "\n",
       "    .dataframe thead th {\n",
       "        text-align: right;\n",
       "    }\n",
       "</style>\n",
       "<table border=\"1\" class=\"dataframe\">\n",
       "  <thead>\n",
       "    <tr style=\"text-align: right;\">\n",
       "      <th></th>\n",
       "      <th>location</th>\n",
       "      <th>City</th>\n",
       "      <th>State</th>\n",
       "    </tr>\n",
       "  </thead>\n",
       "  <tbody>\n",
       "    <tr>\n",
       "      <td>0</td>\n",
       "      <td>Indianapolis, IN</td>\n",
       "      <td>Indianapolis</td>\n",
       "      <td>IN</td>\n",
       "    </tr>\n",
       "    <tr>\n",
       "      <td>1</td>\n",
       "      <td>Calabasas, CA</td>\n",
       "      <td>Calabasas</td>\n",
       "      <td>CA</td>\n",
       "    </tr>\n",
       "    <tr>\n",
       "      <td>2</td>\n",
       "      <td>New York, NY</td>\n",
       "      <td>New York</td>\n",
       "      <td>NY</td>\n",
       "    </tr>\n",
       "    <tr>\n",
       "      <td>3</td>\n",
       "      <td>Dallas, TX</td>\n",
       "      <td>Dallas</td>\n",
       "      <td>TX</td>\n",
       "    </tr>\n",
       "    <tr>\n",
       "      <td>4</td>\n",
       "      <td>New York, NY</td>\n",
       "      <td>New York</td>\n",
       "      <td>NY</td>\n",
       "    </tr>\n",
       "    <tr>\n",
       "      <td>...</td>\n",
       "      <td>...</td>\n",
       "      <td>...</td>\n",
       "      <td>...</td>\n",
       "    </tr>\n",
       "    <tr>\n",
       "      <td>736</td>\n",
       "      <td>New York, NY</td>\n",
       "      <td>New York</td>\n",
       "      <td>NY</td>\n",
       "    </tr>\n",
       "    <tr>\n",
       "      <td>737</td>\n",
       "      <td>San Mateo, CA</td>\n",
       "      <td>San Mateo</td>\n",
       "      <td>CA</td>\n",
       "    </tr>\n",
       "    <tr>\n",
       "      <td>738</td>\n",
       "      <td>Berkeley, CA</td>\n",
       "      <td>Berkeley</td>\n",
       "      <td>CA</td>\n",
       "    </tr>\n",
       "    <tr>\n",
       "      <td>739</td>\n",
       "      <td>Amsterdam, Netherlands</td>\n",
       "      <td>Amsterdam</td>\n",
       "      <td>Netherlands</td>\n",
       "    </tr>\n",
       "    <tr>\n",
       "      <td>740</td>\n",
       "      <td>Columbus, OH</td>\n",
       "      <td>Columbus</td>\n",
       "      <td>OH</td>\n",
       "    </tr>\n",
       "  </tbody>\n",
       "</table>\n",
       "<p>741 rows × 3 columns</p>\n",
       "</div>"
      ],
      "text/plain": [
       "                   location          City         State\n",
       "0          Indianapolis, IN  Indianapolis            IN\n",
       "1             Calabasas, CA     Calabasas            CA\n",
       "2              New York, NY      New York            NY\n",
       "3                Dallas, TX        Dallas            TX\n",
       "4              New York, NY      New York            NY\n",
       "..                      ...           ...           ...\n",
       "736            New York, NY      New York            NY\n",
       "737           San Mateo, CA     San Mateo            CA\n",
       "738            Berkeley, CA      Berkeley            CA\n",
       "739  Amsterdam, Netherlands     Amsterdam   Netherlands\n",
       "740            Columbus, OH      Columbus            OH\n",
       "\n",
       "[741 rows x 3 columns]"
      ]
     },
     "execution_count": 4,
     "metadata": {},
     "output_type": "execute_result"
    }
   ],
   "source": [
    "#Separate the locations into City and States\n",
    "df2 = df.copy()\n",
    "col = [\"location\"]\n",
    "df_data = df2[col]\n",
    "df_data[['City','State']] = df_data.location.str.split(\",\",expand=True,)\n",
    "df_data"
   ]
  },
  {
   "cell_type": "code",
   "execution_count": 5,
   "metadata": {},
   "outputs": [
    {
     "data": {
      "text/html": [
       "<div>\n",
       "<style scoped>\n",
       "    .dataframe tbody tr th:only-of-type {\n",
       "        vertical-align: middle;\n",
       "    }\n",
       "\n",
       "    .dataframe tbody tr th {\n",
       "        vertical-align: top;\n",
       "    }\n",
       "\n",
       "    .dataframe thead th {\n",
       "        text-align: right;\n",
       "    }\n",
       "</style>\n",
       "<table border=\"1\" class=\"dataframe\">\n",
       "  <thead>\n",
       "    <tr style=\"text-align: right;\">\n",
       "      <th></th>\n",
       "      <th>location</th>\n",
       "      <th>City</th>\n",
       "      <th>State</th>\n",
       "    </tr>\n",
       "  </thead>\n",
       "  <tbody>\n",
       "    <tr>\n",
       "      <td>397</td>\n",
       "      <td>CA</td>\n",
       "      <td>CA</td>\n",
       "      <td>None</td>\n",
       "    </tr>\n",
       "  </tbody>\n",
       "</table>\n",
       "</div>"
      ],
      "text/plain": [
       "    location City State\n",
       "397       CA   CA  None"
      ]
     },
     "execution_count": 5,
     "metadata": {},
     "output_type": "execute_result"
    }
   ],
   "source": [
    "#Look if there's any columns from 'State' empty\n",
    "df_data.loc[ df_data.isnull().any(axis=1)]"
   ]
  },
  {
   "cell_type": "code",
   "execution_count": 6,
   "metadata": {},
   "outputs": [
    {
     "name": "stderr",
     "output_type": "stream",
     "text": [
      "C:\\Users\\subil\\AppData\\Local\\Continuum\\anaconda3\\lib\\site-packages\\pandas\\core\\generic.py:6287: SettingWithCopyWarning: \n",
      "A value is trying to be set on a copy of a slice from a DataFrame\n",
      "\n",
      "See the caveats in the documentation: http://pandas.pydata.org/pandas-docs/stable/user_guide/indexing.html#returning-a-view-versus-a-copy\n",
      "  self._update_inplace(new_data)\n"
     ]
    }
   ],
   "source": [
    "#Fill the empty cell\n",
    "df_data['State'].fillna('CA', inplace=True)"
   ]
  },
  {
   "cell_type": "code",
   "execution_count": 7,
   "metadata": {},
   "outputs": [
    {
     "data": {
      "text/plain": [
       "dict_items([('', 740), ('IN', 3), ('CA', 318), ('NY', 85), ('TX', 24), ('Israel', 23), ('MD', 4), ('MA', 59), ('China', 3), ('MI', 5), ('WA', 15), ('United', 19), ('Kingdom', 19), ('OR', 6), ('CO', 12), ('DC', 8), ('GA', 8), ('VA', 10), ('Switzerland', 5), ('CT', 3), ('UT', 6), ('Sweden', 1), ('Portugal', 1), ('Taiwan', 1), ('Germany', 12), ('IL', 12), ('Japan', 11), ('Canada', 18), ('Singapore', 2), ('KS', 1), ('Uganda', 1), ('NJ', 3), ('Belgium', 1), ('NC', 6), ('AZ', 3), ('NV', 2), ('PA', 9), ('Colombia', 1), ('India', 8), ('Ireland', 1), ('Australia', 1), ('LA', 1), ('Nigeria', 1), ('Netherlands', 2), ('Russia', 1), ('France', 7), ('Spain', 3), ('RI', 1), ('Brazil', 1), ('OH', 4), ('MT', 1), ('Finland', 1), ('TN', 1), ('MN', 1), ('MO', 2), ('FL', 1), ('South', 1), ('Africa', 1), ('Thailand', 1)])"
      ]
     },
     "execution_count": 7,
     "metadata": {},
     "output_type": "execute_result"
    }
   ],
   "source": [
    "#Count how many startups each State has\n",
    "results = Counter(\" \".join(df_data['State'].values.tolist()).split(\" \")).items()\n",
    "results"
   ]
  },
  {
   "cell_type": "code",
   "execution_count": 8,
   "metadata": {},
   "outputs": [
    {
     "data": {
      "text/html": [
       "<div>\n",
       "<style scoped>\n",
       "    .dataframe tbody tr th:only-of-type {\n",
       "        vertical-align: middle;\n",
       "    }\n",
       "\n",
       "    .dataframe tbody tr th {\n",
       "        vertical-align: top;\n",
       "    }\n",
       "\n",
       "    .dataframe thead th {\n",
       "        text-align: right;\n",
       "    }\n",
       "</style>\n",
       "<table border=\"1\" class=\"dataframe\">\n",
       "  <thead>\n",
       "    <tr style=\"text-align: right;\">\n",
       "      <th></th>\n",
       "      <th>State</th>\n",
       "      <th>amount</th>\n",
       "    </tr>\n",
       "  </thead>\n",
       "  <tbody>\n",
       "    <tr>\n",
       "      <td>0</td>\n",
       "      <td></td>\n",
       "      <td>740</td>\n",
       "    </tr>\n",
       "    <tr>\n",
       "      <td>2</td>\n",
       "      <td>CA</td>\n",
       "      <td>318</td>\n",
       "    </tr>\n",
       "    <tr>\n",
       "      <td>3</td>\n",
       "      <td>NY</td>\n",
       "      <td>85</td>\n",
       "    </tr>\n",
       "    <tr>\n",
       "      <td>7</td>\n",
       "      <td>MA</td>\n",
       "      <td>59</td>\n",
       "    </tr>\n",
       "    <tr>\n",
       "      <td>4</td>\n",
       "      <td>TX</td>\n",
       "      <td>24</td>\n",
       "    </tr>\n",
       "  </tbody>\n",
       "</table>\n",
       "</div>"
      ],
      "text/plain": [
       "  State  amount\n",
       "0           740\n",
       "2    CA     318\n",
       "3    NY      85\n",
       "7    MA      59\n",
       "4    TX      24"
      ]
     },
     "execution_count": 8,
     "metadata": {},
     "output_type": "execute_result"
    }
   ],
   "source": [
    "#Get the 4 biggest States with Startup\n",
    "map_df = pd.DataFrame(results, columns=['State','amount'])\n",
    "map_data = map_df.nlargest(5,['amount'])\n",
    "map_data"
   ]
  },
  {
   "cell_type": "code",
   "execution_count": 9,
   "metadata": {},
   "outputs": [
    {
     "data": {
      "text/html": [
       "<div>\n",
       "<style scoped>\n",
       "    .dataframe tbody tr th:only-of-type {\n",
       "        vertical-align: middle;\n",
       "    }\n",
       "\n",
       "    .dataframe tbody tr th {\n",
       "        vertical-align: top;\n",
       "    }\n",
       "\n",
       "    .dataframe thead th {\n",
       "        text-align: right;\n",
       "    }\n",
       "</style>\n",
       "<table border=\"1\" class=\"dataframe\">\n",
       "  <thead>\n",
       "    <tr style=\"text-align: right;\">\n",
       "      <th></th>\n",
       "      <th>State</th>\n",
       "      <th>amount</th>\n",
       "    </tr>\n",
       "  </thead>\n",
       "  <tbody>\n",
       "    <tr>\n",
       "      <td>2</td>\n",
       "      <td>CA</td>\n",
       "      <td>318</td>\n",
       "    </tr>\n",
       "    <tr>\n",
       "      <td>3</td>\n",
       "      <td>NY</td>\n",
       "      <td>85</td>\n",
       "    </tr>\n",
       "    <tr>\n",
       "      <td>7</td>\n",
       "      <td>MA</td>\n",
       "      <td>59</td>\n",
       "    </tr>\n",
       "    <tr>\n",
       "      <td>4</td>\n",
       "      <td>TX</td>\n",
       "      <td>24</td>\n",
       "    </tr>\n",
       "  </tbody>\n",
       "</table>\n",
       "</div>"
      ],
      "text/plain": [
       "  State  amount\n",
       "2    CA     318\n",
       "3    NY      85\n",
       "7    MA      59\n",
       "4    TX      24"
      ]
     },
     "execution_count": 9,
     "metadata": {},
     "output_type": "execute_result"
    }
   ],
   "source": [
    "#Drop the first line, it's the total and I don't need it\n",
    "map_data.drop([0], inplace=True)\n",
    "map_data"
   ]
  },
  {
   "cell_type": "code",
   "execution_count": 10,
   "metadata": {},
   "outputs": [],
   "source": [
    "#Create a csv file with the 4 biggest States\n",
    "map_data.to_csv('state.csv', index=False)"
   ]
  },
  {
   "cell_type": "code",
   "execution_count": 11,
   "metadata": {},
   "outputs": [
    {
     "data": {
      "text/plain": [
       "dict_items([('UnitedStates', 614), ('Israel', 23), ('China', 3), ('UnitedKingdom', 19), ('Switzerland', 5), ('Sweden', 1), ('Portugal', 1), ('Taiwan', 1), ('Germany', 12), ('Japan', 11), ('Canada', 18), ('Singapore', 2), ('Uganda', 1), ('Belgium', 1), ('Colombia', 1), ('India', 8), ('Ireland', 1), ('Australia', 1), ('Nigeria', 1), ('Netherlands', 2), ('Russia', 1), ('France', 7), ('Spain', 3), ('Brazil', 1), ('Finland', 1), ('SouthAfrica', 1), ('Thailand', 1)])"
      ]
     },
     "execution_count": 11,
     "metadata": {},
     "output_type": "execute_result"
    }
   ],
   "source": [
    "#Checking how many startups in each country this data \n",
    "df['HQ Country'] = df[\"HQ Country\"].str.replace(\" \",\"\")\n",
    "result = Counter(\" \".join(df['HQ Country'].values.tolist()).split(\" \")).items()\n",
    "result"
   ]
  },
  {
   "cell_type": "code",
   "execution_count": 12,
   "metadata": {},
   "outputs": [
    {
     "data": {
      "text/plain": [
       "dict_items([('BusinessProductsandServices(B2B)', 99), ('ConsumerProductsandServices(B2C)', 129), ('InformationTechnology', 435), ('Healthcare', 27), ('Energy', 36), ('FinancialServices', 11), ('MaterialsandResources', 4)])"
      ]
     },
     "execution_count": 12,
     "metadata": {},
     "output_type": "execute_result"
    }
   ],
   "source": [
    "#Couting the sectors of the startups \n",
    "df['Primary Industry Sector'] = df[\"Primary Industry Sector\"].str.replace(\" \",\"\")\n",
    "result = Counter(\" \".join(df['Primary Industry Sector'].values.tolist()).split(\" \")).items()\n",
    "result"
   ]
  },
  {
   "cell_type": "code",
   "execution_count": 13,
   "metadata": {
    "scrolled": false
   },
   "outputs": [
    {
     "data": {
      "text/html": [
       "<div>\n",
       "<style scoped>\n",
       "    .dataframe tbody tr th:only-of-type {\n",
       "        vertical-align: middle;\n",
       "    }\n",
       "\n",
       "    .dataframe tbody tr th {\n",
       "        vertical-align: top;\n",
       "    }\n",
       "\n",
       "    .dataframe thead th {\n",
       "        text-align: right;\n",
       "    }\n",
       "</style>\n",
       "<table border=\"1\" class=\"dataframe\">\n",
       "  <thead>\n",
       "    <tr style=\"text-align: right;\">\n",
       "      <th></th>\n",
       "      <th>sector</th>\n",
       "      <th>number</th>\n",
       "    </tr>\n",
       "  </thead>\n",
       "  <tbody>\n",
       "    <tr>\n",
       "      <td>0</td>\n",
       "      <td>BusinessProductsandServices(B2B)</td>\n",
       "      <td>99</td>\n",
       "    </tr>\n",
       "    <tr>\n",
       "      <td>1</td>\n",
       "      <td>ConsumerProductsandServices(B2C)</td>\n",
       "      <td>129</td>\n",
       "    </tr>\n",
       "    <tr>\n",
       "      <td>2</td>\n",
       "      <td>InformationTechnology</td>\n",
       "      <td>435</td>\n",
       "    </tr>\n",
       "    <tr>\n",
       "      <td>3</td>\n",
       "      <td>Healthcare</td>\n",
       "      <td>27</td>\n",
       "    </tr>\n",
       "    <tr>\n",
       "      <td>4</td>\n",
       "      <td>Energy</td>\n",
       "      <td>36</td>\n",
       "    </tr>\n",
       "    <tr>\n",
       "      <td>5</td>\n",
       "      <td>FinancialServices</td>\n",
       "      <td>11</td>\n",
       "    </tr>\n",
       "    <tr>\n",
       "      <td>6</td>\n",
       "      <td>MaterialsandResources</td>\n",
       "      <td>4</td>\n",
       "    </tr>\n",
       "  </tbody>\n",
       "</table>\n",
       "</div>"
      ],
      "text/plain": [
       "                             sector  number\n",
       "0  BusinessProductsandServices(B2B)      99\n",
       "1  ConsumerProductsandServices(B2C)     129\n",
       "2             InformationTechnology     435\n",
       "3                        Healthcare      27\n",
       "4                            Energy      36\n",
       "5                 FinancialServices      11\n",
       "6             MaterialsandResources       4"
      ]
     },
     "execution_count": 13,
     "metadata": {},
     "output_type": "execute_result"
    }
   ],
   "source": [
    "#Create a df for the sectors\n",
    "sector_df = pd.DataFrame(result, columns=['sector', 'number'])\n",
    "sector_df"
   ]
  },
  {
   "cell_type": "code",
   "execution_count": 14,
   "metadata": {},
   "outputs": [],
   "source": [
    "#Put the df in order\n",
    "sector_df = sector_df.sort_values('number')"
   ]
  },
  {
   "cell_type": "code",
   "execution_count": 15,
   "metadata": {},
   "outputs": [
    {
     "data": {
      "image/png": "[encoded data removed]",
      "text/plain": [
       "<Figure size 864x576 with 1 Axes>"
      ]
     },
     "metadata": {
      "needs_background": "light"
     },
     "output_type": "display_data"
    }
   ],
   "source": [
    "# Create the chart\n",
    "y = sector_df['number']\n",
    "sector_df.plot(kind='barh',  x='sector', y='number', title =\"Startups by Sector\",figsize=(12, 8), legend=None, fontsize=12, alpha = 0.5)\n",
    "plt.xlabel('Amount of companies')\n",
    "plt.ylabel(' ')\n",
    "plt.tight_layout()\n",
    "\n",
    "for index, value in enumerate(y):\n",
    "    plt.text(value, index, str(value))\n",
    "\n",
    "plt.savefig('sectors.png')"
   ]
  },
  {
   "cell_type": "code",
   "execution_count": 16,
   "metadata": {},
   "outputs": [
    {
     "data": {
      "text/html": [
       "<div>\n",
       "<style scoped>\n",
       "    .dataframe tbody tr th:only-of-type {\n",
       "        vertical-align: middle;\n",
       "    }\n",
       "\n",
       "    .dataframe tbody tr th {\n",
       "        vertical-align: top;\n",
       "    }\n",
       "\n",
       "    .dataframe thead th {\n",
       "        text-align: right;\n",
       "    }\n",
       "</style>\n",
       "<table border=\"1\" class=\"dataframe\">\n",
       "  <thead>\n",
       "    <tr style=\"text-align: right;\">\n",
       "      <th></th>\n",
       "      <th>Company Name</th>\n",
       "      <th>Year Founded</th>\n",
       "    </tr>\n",
       "  </thead>\n",
       "  <tbody>\n",
       "    <tr>\n",
       "      <td>0</td>\n",
       "      <td>Zylo</td>\n",
       "      <td>2016.0</td>\n",
       "    </tr>\n",
       "    <tr>\n",
       "      <td>1</td>\n",
       "      <td>Zya</td>\n",
       "      <td>2008.0</td>\n",
       "    </tr>\n",
       "    <tr>\n",
       "      <td>2</td>\n",
       "      <td>Zola</td>\n",
       "      <td>2013.0</td>\n",
       "    </tr>\n",
       "    <tr>\n",
       "      <td>3</td>\n",
       "      <td>Zimperium</td>\n",
       "      <td>2010.0</td>\n",
       "    </tr>\n",
       "    <tr>\n",
       "      <td>4</td>\n",
       "      <td>ZergNet</td>\n",
       "      <td>2012.0</td>\n",
       "    </tr>\n",
       "  </tbody>\n",
       "</table>\n",
       "</div>"
      ],
      "text/plain": [
       "  Company Name  Year Founded\n",
       "0         Zylo        2016.0\n",
       "1          Zya        2008.0\n",
       "2         Zola        2013.0\n",
       "3    Zimperium        2010.0\n",
       "4      ZergNet        2012.0"
      ]
     },
     "execution_count": 16,
     "metadata": {},
     "output_type": "execute_result"
    }
   ],
   "source": [
    "#Separate the locations into City and States\n",
    "df3 = df.copy()\n",
    "col=[\"Company Name\",\"Year Founded\"]\n",
    "year = df3[col]\n",
    "year.head()"
   ]
  },
  {
   "cell_type": "code",
   "execution_count": 17,
   "metadata": {},
   "outputs": [
    {
     "data": {
      "text/html": [
       "<div>\n",
       "<style scoped>\n",
       "    .dataframe tbody tr th:only-of-type {\n",
       "        vertical-align: middle;\n",
       "    }\n",
       "\n",
       "    .dataframe tbody tr th {\n",
       "        vertical-align: top;\n",
       "    }\n",
       "\n",
       "    .dataframe thead th {\n",
       "        text-align: right;\n",
       "    }\n",
       "</style>\n",
       "<table border=\"1\" class=\"dataframe\">\n",
       "  <thead>\n",
       "    <tr style=\"text-align: right;\">\n",
       "      <th></th>\n",
       "      <th>Company Name</th>\n",
       "      <th>Year Founded</th>\n",
       "      <th>old</th>\n",
       "    </tr>\n",
       "  </thead>\n",
       "  <tbody>\n",
       "    <tr>\n",
       "      <td>0</td>\n",
       "      <td>Zylo</td>\n",
       "      <td>2016.0</td>\n",
       "      <td>3.0</td>\n",
       "    </tr>\n",
       "    <tr>\n",
       "      <td>1</td>\n",
       "      <td>Zya</td>\n",
       "      <td>2008.0</td>\n",
       "      <td>11.0</td>\n",
       "    </tr>\n",
       "    <tr>\n",
       "      <td>2</td>\n",
       "      <td>Zola</td>\n",
       "      <td>2013.0</td>\n",
       "      <td>6.0</td>\n",
       "    </tr>\n",
       "    <tr>\n",
       "      <td>3</td>\n",
       "      <td>Zimperium</td>\n",
       "      <td>2010.0</td>\n",
       "      <td>9.0</td>\n",
       "    </tr>\n",
       "    <tr>\n",
       "      <td>4</td>\n",
       "      <td>ZergNet</td>\n",
       "      <td>2012.0</td>\n",
       "      <td>7.0</td>\n",
       "    </tr>\n",
       "    <tr>\n",
       "      <td>...</td>\n",
       "      <td>...</td>\n",
       "      <td>...</td>\n",
       "      <td>...</td>\n",
       "    </tr>\n",
       "    <tr>\n",
       "      <td>736</td>\n",
       "      <td>88Rising</td>\n",
       "      <td>2015.0</td>\n",
       "      <td>4.0</td>\n",
       "    </tr>\n",
       "    <tr>\n",
       "      <td>737</td>\n",
       "      <td>4INFO</td>\n",
       "      <td>2004.0</td>\n",
       "      <td>15.0</td>\n",
       "    </tr>\n",
       "    <tr>\n",
       "      <td>738</td>\n",
       "      <td>3DR</td>\n",
       "      <td>2012.0</td>\n",
       "      <td>7.0</td>\n",
       "    </tr>\n",
       "    <tr>\n",
       "      <td>739</td>\n",
       "      <td>3D Hubs</td>\n",
       "      <td>2013.0</td>\n",
       "      <td>6.0</td>\n",
       "    </tr>\n",
       "    <tr>\n",
       "      <td>740</td>\n",
       "      <td>3Bar Biologics</td>\n",
       "      <td>2013.0</td>\n",
       "      <td>6.0</td>\n",
       "    </tr>\n",
       "  </tbody>\n",
       "</table>\n",
       "<p>741 rows × 3 columns</p>\n",
       "</div>"
      ],
      "text/plain": [
       "       Company Name  Year Founded   old\n",
       "0              Zylo        2016.0   3.0\n",
       "1               Zya        2008.0  11.0\n",
       "2              Zola        2013.0   6.0\n",
       "3         Zimperium        2010.0   9.0\n",
       "4           ZergNet        2012.0   7.0\n",
       "..              ...           ...   ...\n",
       "736        88Rising        2015.0   4.0\n",
       "737           4INFO        2004.0  15.0\n",
       "738             3DR        2012.0   7.0\n",
       "739         3D Hubs        2013.0   6.0\n",
       "740  3Bar Biologics        2013.0   6.0\n",
       "\n",
       "[741 rows x 3 columns]"
      ]
     },
     "execution_count": 17,
     "metadata": {},
     "output_type": "execute_result"
    }
   ],
   "source": [
    "#Get how many years these companies are open\n",
    "y = 2019\n",
    "year_df = pd.DataFrame(year)\n",
    "final = year_df.assign(old=y - year_df['Year Founded'])\n",
    "final"
   ]
  },
  {
   "cell_type": "code",
   "execution_count": 18,
   "metadata": {},
   "outputs": [
    {
     "data": {
      "text/html": [
       "<div>\n",
       "<style scoped>\n",
       "    .dataframe tbody tr th:only-of-type {\n",
       "        vertical-align: middle;\n",
       "    }\n",
       "\n",
       "    .dataframe tbody tr th {\n",
       "        vertical-align: top;\n",
       "    }\n",
       "\n",
       "    .dataframe thead th {\n",
       "        text-align: right;\n",
       "    }\n",
       "</style>\n",
       "<table border=\"1\" class=\"dataframe\">\n",
       "  <thead>\n",
       "    <tr style=\"text-align: right;\">\n",
       "      <th></th>\n",
       "      <th>Company Name</th>\n",
       "      <th>Year Founded</th>\n",
       "      <th>old</th>\n",
       "    </tr>\n",
       "  </thead>\n",
       "  <tbody>\n",
       "    <tr>\n",
       "      <td>419</td>\n",
       "      <td>Ionic Materials</td>\n",
       "      <td>1986.0</td>\n",
       "      <td>33.0</td>\n",
       "    </tr>\n",
       "    <tr>\n",
       "      <td>197</td>\n",
       "      <td>Savi Technology</td>\n",
       "      <td>1989.0</td>\n",
       "      <td>30.0</td>\n",
       "    </tr>\n",
       "    <tr>\n",
       "      <td>230</td>\n",
       "      <td>Reaction Engines</td>\n",
       "      <td>1989.0</td>\n",
       "      <td>30.0</td>\n",
       "    </tr>\n",
       "    <tr>\n",
       "      <td>314</td>\n",
       "      <td>NSS Labs</td>\n",
       "      <td>1991.0</td>\n",
       "      <td>28.0</td>\n",
       "    </tr>\n",
       "    <tr>\n",
       "      <td>602</td>\n",
       "      <td>Cortera</td>\n",
       "      <td>1993.0</td>\n",
       "      <td>26.0</td>\n",
       "    </tr>\n",
       "    <tr>\n",
       "      <td>...</td>\n",
       "      <td>...</td>\n",
       "      <td>...</td>\n",
       "      <td>...</td>\n",
       "    </tr>\n",
       "    <tr>\n",
       "      <td>203</td>\n",
       "      <td>ROMO Wind</td>\n",
       "      <td>2011.0</td>\n",
       "      <td>8.0</td>\n",
       "    </tr>\n",
       "    <tr>\n",
       "      <td>229</td>\n",
       "      <td>Realm</td>\n",
       "      <td>2011.0</td>\n",
       "      <td>8.0</td>\n",
       "    </tr>\n",
       "    <tr>\n",
       "      <td>231</td>\n",
       "      <td>Rayvio</td>\n",
       "      <td>2011.0</td>\n",
       "      <td>8.0</td>\n",
       "    </tr>\n",
       "    <tr>\n",
       "      <td>232</td>\n",
       "      <td>Raptor Oil</td>\n",
       "      <td>2011.0</td>\n",
       "      <td>8.0</td>\n",
       "    </tr>\n",
       "    <tr>\n",
       "      <td>237</td>\n",
       "      <td>Qyuki</td>\n",
       "      <td>2011.0</td>\n",
       "      <td>8.0</td>\n",
       "    </tr>\n",
       "  </tbody>\n",
       "</table>\n",
       "<p>300 rows × 3 columns</p>\n",
       "</div>"
      ],
      "text/plain": [
       "         Company Name  Year Founded   old\n",
       "419   Ionic Materials        1986.0  33.0\n",
       "197   Savi Technology        1989.0  30.0\n",
       "230  Reaction Engines        1989.0  30.0\n",
       "314          NSS Labs        1991.0  28.0\n",
       "602           Cortera        1993.0  26.0\n",
       "..                ...           ...   ...\n",
       "203         ROMO Wind        2011.0   8.0\n",
       "229             Realm        2011.0   8.0\n",
       "231            Rayvio        2011.0   8.0\n",
       "232        Raptor Oil        2011.0   8.0\n",
       "237             Qyuki        2011.0   8.0\n",
       "\n",
       "[300 rows x 3 columns]"
      ]
     },
     "execution_count": 18,
     "metadata": {},
     "output_type": "execute_result"
    }
   ],
   "source": [
    "#Put the oldest companies on the top of the df\n",
    "final.nlargest(300,['old'])"
   ]
  },
  {
   "cell_type": "code",
   "execution_count": null,
   "metadata": {},
   "outputs": [],
   "source": []
  }
 ],
 "metadata": {
  "kernelspec": {
   "display_name": "Python 3",
   "language": "python",
   "name": "python3"
  },
  "language_info": {
   "codemirror_mode": {
    "name": "ipython",
    "version": 3
   },
   "file_extension": ".py",
   "mimetype": "text/x-python",
   "name": "python",
   "nbconvert_exporter": "python",
   "pygments_lexer": "ipython3",
   "version": "3.7.4"
  }
 },
 "nbformat": 4,
 "nbformat_minor": 4
}
